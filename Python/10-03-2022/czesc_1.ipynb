{
 "cells": [
  {
   "cell_type": "markdown",
   "metadata": {},
   "source": [
    "# Plan spotkania\n",
    "# \n",
    "Teoria: </br>\n",
    " • Uczenie nadzorowane i nienadzorowane </br>\n",
    " • klasyfikacja </br>\n",
    " • regresja </br>\n",
    " • rezydua </br>\n",
    " • miary jakości dopasowania modelu </br>\n",
    " • bias-wariance tradeoff </br>\n",
    "\n",
    "Praktyka: </br>\n",
    " • Regresja Liniowa </br>\n",
    " • Drzewa Decyzyjne </br>\n",
    " • Las losowy </br>"
   ]
  },
  {
   "cell_type": "markdown",
   "metadata": {},
   "source": [
    "---"
   ]
  },
  {
   "cell_type": "markdown",
   "metadata": {},
   "source": [
    "# Teoria"
   ]
  },
  {
   "cell_type": "markdown",
   "metadata": {},
   "source": [
    "### 1. Uczenie nadzorowane i nienadzorowane"
   ]
  },
  {
   "cell_type": "markdown",
   "metadata": {},
   "source": [
    "**Uczenie nadzorowane** – uczenie maszynowe, które zakłada obecność ludzkiego nadzoru nad tworzeniem funkcji odwzorowującej wejście systemu na jego wyjście. Nadzór polega na stworzeniu zestawu danych uczących, czyli par: wejściowy obiekt uczący; pożądana przez nadzorcę odpowiedź.\n",
    "</br></br>\n",
    "*~Wikipedia*"
   ]
  },
  {
   "cell_type": "markdown",
   "metadata": {},
   "source": [
    "**Uczenie nadzorowane** - człowiek musi oznakować (*olejbelować*) dane wejściowe.\n",
    "</br></br>\n",
    "*~Autor spotkania*"
   ]
  },
  {
   "cell_type": "markdown",
   "metadata": {},
   "source": [
    "</br>"
   ]
  },
  {
   "cell_type": "markdown",
   "metadata": {},
   "source": [
    "**Uczenie nienadzorowane** – rodzaj uczenia maszynowego, którego zadaniem jest odkrywanie w zbiorze danych wzorców bez wcześniej istniejących etykiet i przy minimalnej ingerencji człowieka.\n",
    "</br></br>\n",
    "*~Wikipedia*"
   ]
  },
  {
   "cell_type": "markdown",
   "metadata": {},
   "source": [
    "**Uczenie nanadzorowane** - dane wejściowe nie są oznakowane. Sieć neuronowa bądź inny obiekt sam musi znaleźć zależności między danymi.\n",
    "</br></br>\n",
    "*~Autor spotkania* "
   ]
  },
  {
   "cell_type": "markdown",
   "metadata": {},
   "source": [
    "</br>"
   ]
  },
  {
   "cell_type": "markdown",
   "metadata": {},
   "source": [
    "#### Przykład - nauczanie nadzorowane"
   ]
  },
  {
   "cell_type": "markdown",
   "metadata": {},
   "source": [
    "\n",
    "| Dane | Etykieta |\n",
    "---- | ----\n",
    "| To jest taki piękny obraz | pozytywne |\n",
    "| Byłem wczoraj w parku | neutralne |\n",
    "| Jestem wysoki | neutralne |\n",
    "| TEN IDIOTA MNIE OBRAZIł ! | negatywne |\n",
    "| Dzisiaj świeci słońce | neutralne |\n",
    "| Jaki to był wspaniały dzień! Jestem taki szczęśliwy! | pozytywne |\n",
    "\n",
    "</br>\n",
    "\n",
    " - co charakteryzuje zdania negatywne, co neutralne, a co pozytywne?\n",
    "</br></br>"
   ]
  },
  {
   "cell_type": "markdown",
   "metadata": {},
   "source": [
    "#### Przykład - nauczanie nienadzorowane"
   ]
  },
  {
   "cell_type": "markdown",
   "metadata": {},
   "source": [
    "Badamy ludzi chorych na cukrzycę, zastanawiamy się, czy możemy ich podzielić na podgrupy (na przykład typy cukrzycy)\n",
    "\n",
    "| Płeć | Długość życia | Waga | Wzrost | Etykieta |\n",
    "| -- | -- | -- | -- | -- |\n",
    "| 1 | 75 | 104.2 | 195 | ? |\n",
    "| 0 | 87 | 61.5 | 172 | ? |\n",
    "| 0 | 73 | 54.8 | 167 | ? |\n",
    "| 1 | 56 | 97.2 | 182 | ? |\n",
    "| 0 | 94 | 59.3 | 165 | ? |\n",
    "\n",
    "Model zauważa, że płeć charakteryzują:\n",
    "- rożne długości życia (mężczyźni krócej, kobiety dłużej)\n",
    "- rożne wagi (mężczyźni ciężsi, kobiety lżejsze)\n",
    "- rożne wysokości (mężczyźni wyżsi, kobiety niższe)\n",
    "\n",
    "</br>\n",
    "\n",
    "Mając już grupę, można zauważać że są osobniki, które względem swojej kategorii (płci) żyją krócej i mniej ważą.\n",
    "\n",
    "| Płeć | Długość życia | Waga | Wzrost | Etykieta |\n",
    "| -- | -- | -- | -- | -- |\n",
    "| 1 | 75 | 104.2 | 195 | A |\n",
    "| 0 | 87 | 61.5 | 172 | A |\n",
    "| 0 | 73 | 54.8 | 167 | B |\n",
    "| 1 | 56 | 97.2 | 182 | B |\n",
    "| 0 | 94 | 59.3 | 165 | A |\n",
    "\n",
    "</br>\n"
   ]
  },
  {
   "cell_type": "markdown",
   "metadata": {},
   "source": [
    "### 2. Klasyfikacja"
   ]
  },
  {
   "cell_type": "markdown",
   "metadata": {},
   "source": [
    "**klasyfikacja** - to przypisanie pewnych obiektów do odpowiednich klas na podstawie pewnych cech tych obiektów\n",
    "</br></br>\n",
    "*~[Encyklopedia Zarządzania](https://mfiles.pl/pl/index.php/Klasyfikacja)*"
   ]
  },
  {
   "cell_type": "markdown",
   "metadata": {},
   "source": [
    "Sytuacja, gdy da się dokonać klasyfikacji:\n",
    "\n",
    "<img src=\"images/possible_classification.png\" width=\"452\" height=\"400\">\n"
   ]
  },
  {
   "cell_type": "markdown",
   "metadata": {},
   "source": [
    "Sytuacja, gdy nie da się dokonać klasyfikacji:\n",
    "\n",
    "<img src=\"images/impossible_classification.png\" width=\"537\" height=\"400\">\n"
   ]
  },
  {
   "cell_type": "markdown",
   "metadata": {},
   "source": [
    "### 3. Regresja"
   ]
  },
  {
   "cell_type": "markdown",
   "metadata": {},
   "source": [
    "**Regresja** – metoda statystyczna pozwalająca na opisanie współzmienności kilku zmiennych przez dopasowanie do nich funkcji. Umożliwia przewidywanie nieznanych wartości jednych wielkości na podstawie znanych wartości innych.\n",
    "</br>\n",
    "*~[Wikipedia](https://pl.wikipedia.org/wiki/Regresja_(statystyka))*"
   ]
  },
  {
   "cell_type": "markdown",
   "metadata": {},
   "source": [
    "**Regresja** - sposób na przewidywanie wartości, których nie znamy.\n",
    "</br>\n",
    "*~Autor*"
   ]
  },
  {
   "cell_type": "markdown",
   "metadata": {},
   "source": [
    "#### Przykład - regresja liniowa"
   ]
  },
  {
   "cell_type": "markdown",
   "metadata": {},
   "source": [
    "Spróbujmy przewidzieć zadłużenie pewnego Państwa. </br></br>\n",
    "Wiemy, że:\n",
    "| Rok | Zadłużenie |\n",
    "| -- | -- |\n",
    "| 2002 | 338 |\n",
    "| 2003 | 394 |\n",
    "| 2004 | 420 |\n",
    "\n",
    "Nie wiemy, że:\n",
    "| Rok | Zadłużenie |\n",
    "| -- | -- |\n",
    "| 2005 | 461 |\n",
    "| 2006 | 505 |\n",
    "| 2007 | 528 |\n",
    "| 2008 | 600 |\n"
   ]
  },
  {
   "cell_type": "code",
   "execution_count": 1,
   "metadata": {},
   "outputs": [],
   "source": [
    "from sklearn.linear_model import LinearRegression\n",
    "import numpy as np\n",
    "\n",
    "# [ Data ]\n",
    "# Year, country's debt\n",
    "data = [\n",
    "     (2002, 338),\n",
    "     (2003, 394),\n",
    "     (2004, 420),\n",
    "     (2005, 461),\n",
    "     (2006, 505),\n",
    "     (2007, 528),\n",
    "     (2008, 600),\n",
    "]\n",
    "\n",
    "\n",
    "# [ Year and debt ]\n",
    "x_range = [row[0] for row in data]  # year\n",
    "y_range = [row[1] for row in data]  # debt\n",
    "\n",
    "x_range = np.array(x_range).reshape((-1, 1))\n",
    "y_range = np.array(y_range)\n",
    "\n",
    "reg = LinearRegression().fit(x_range[:3], y_range[:3])\n",
    "\n",
    "b = reg.intercept_\n",
    "a = reg.coef_\n",
    "y_predicted = [a*x + b for x in x_range]\n"
   ]
  },
  {
   "cell_type": "code",
   "execution_count": 2,
   "metadata": {},
   "outputs": [
    {
     "name": "stdout",
     "output_type": "stream",
     "text": [
      "f(x) = 41.0*x -81739.0\n",
      "\n",
      "Debt\tPredicted debt\n",
      "338\t343.0\n",
      "394\t384.0\n",
      "420\t425.0\n",
      "461\t466.0\n",
      "505\t507.0\n",
      "528\t548.0\n",
      "600\t589.0\n"
     ]
    }
   ],
   "source": [
    "a = round(float(a), 2)\n",
    "b = round(float(b), 2)\n",
    "print(f\"f(x) = {a}*x {b}\")\n",
    "\n",
    "print()\n",
    "\n",
    "residuals_sum = 0\n",
    "print(\"Debt\\tPredicted debt\")\n",
    "for index in range(len(y_range)):\n",
    "     y = y_range[index]\n",
    "     y_pred = round(float(y_predicted[index]), 2)\n",
    "     print(f\"{y}\", end=\"\\t\")\n",
    "     print(f\"{y_pred}\")\n"
   ]
  },
  {
   "cell_type": "markdown",
   "metadata": {},
   "source": [
    "Stosując regresję liniową:\n",
    "\n",
    "<img src=\"images/predict_debt.png\" width=\"537\" height=\"400\">"
   ]
  },
  {
   "cell_type": "markdown",
   "metadata": {},
   "source": [
    "### 4. Rezydua"
   ]
  },
  {
   "cell_type": "markdown",
   "metadata": {},
   "source": [
    "**rezydua** - różnica znanej wartośći i przewidywanej wartości. </br>\n",
    "Ich suma powinna dążyć do zera."
   ]
  },
  {
   "cell_type": "markdown",
   "metadata": {},
   "source": [
    "R<sub>i</sub> = x<sub>i</sub> - f( x<sub>i</sub> )"
   ]
  },
  {
   "cell_type": "code",
   "execution_count": 3,
   "metadata": {},
   "outputs": [
    {
     "name": "stdout",
     "output_type": "stream",
     "text": [
      "Debt\tPredicted debt\tResiduals\n",
      "338\t343.0\t\t-5.0\n",
      "394\t384.0\t\t10.0\n",
      "420\t425.0\t\t-5.0\n",
      "461\t466.0\t\t-5.0\n",
      "505\t507.0\t\t-2.0\n",
      "528\t548.0\t\t-20.0\n",
      "600\t589.0\t\t11.0\n",
      "\n",
      "Sum of residuals: -16.0\n"
     ]
    }
   ],
   "source": [
    "residuals_sum = 0\n",
    "\n",
    "print(\"Debt\\tPredicted debt\\tResiduals\")\n",
    "for index in range(len(y_range)):\n",
    "     y = y_range[index]\n",
    "     y_pred = round(float(y_predicted[index]), 2)\n",
    "     residual = round(y - y_pred, 2)\n",
    "     print(f\"{y}\", end=\"\\t\")\n",
    "     print(f\"{y_pred}\", end=\"\\t\\t\")\n",
    "     print(f\"{residual}\")\n",
    "     residuals_sum += residual\n",
    "\n",
    "print()\n",
    "\n",
    "print(\"Sum of residuals:\", residuals_sum)\n"
   ]
  },
  {
   "cell_type": "markdown",
   "metadata": {},
   "source": [
    "Wykres z naniesionymi redyzuantami:\n",
    "\n",
    "<img src=\"images/residuals.png\" width=\"537\" height=\"400\">\n"
   ]
  },
  {
   "cell_type": "markdown",
   "metadata": {},
   "source": [
    "Suma rezyduant, gdyby w regresji uwzględnić dane z lat 2002-2008 wynosi: </br>\n",
    "-1.4551915228366852e-11 ≈ 0.0 ⇒ prosta z regresji liniowej wyznaczona *idealnie*"
   ]
  },
  {
   "cell_type": "markdown",
   "metadata": {},
   "source": [
    "### 5. Miary jakości dopasowania modelu"
   ]
  },
  {
   "cell_type": "markdown",
   "metadata": {},
   "source": [
    "#### 5.1 - MSE - Mean Squared Error - Błąd średniokwadratowy\n",
    "\n",
    "Suma rezyduant do kwadratu podzielona przez ich liczbę\n",
    "\n",
    "$MSE$ = $\\displaystyle \\frac{1} {n}$ $\\sum_{i=1}^{n} (x_i - f(x_i))^2$\n"
   ]
  },
  {
   "cell_type": "code",
   "execution_count": 4,
   "metadata": {},
   "outputs": [
    {
     "name": "stdout",
     "output_type": "stream",
     "text": [
      "MSE = 100.0\n"
     ]
    }
   ],
   "source": [
    "mse = 0\n",
    "for index in range(len(y_range)):\n",
    "    y = y_range[index]\n",
    "    y_pred = round(float(y_predicted[index]), 2)\n",
    "    residual = round(y - y_pred, 2)\n",
    "\n",
    "    mse += residual**2\n",
    "\n",
    "mse /= len(y_range)\n",
    "print(\"MSE =\", mse)\n"
   ]
  },
  {
   "cell_type": "markdown",
   "metadata": {},
   "source": [
    "#### 5.2 - RMSE - Root Mean Squared Error - Pierwiastek błędu średniokwadratowego\n",
    "\n",
    "Możemy na tą wartość patrzeć przez wartości Y (w tym przypadku zadłużenie kraju). </br>\n",
    "Błąd wielkości 10 jest niczym przy liczbach rzędu 300-600.\n",
    "\n",
    "Pierwiastek z MSE\n",
    "\n",
    "$RMSE$ = $\\displaystyle \\sqrt{\\frac{1} {n}\\sum_{i=1}^{n} (x_i - f(x_i))^2}$"
   ]
  },
  {
   "cell_type": "code",
   "execution_count": 5,
   "metadata": {},
   "outputs": [
    {
     "name": "stdout",
     "output_type": "stream",
     "text": [
      "RMSE = 10.0\n"
     ]
    }
   ],
   "source": [
    "rmse = mse ** (1/2)\n",
    "print(\"RMSE =\", rmse)\n"
   ]
  },
  {
   "cell_type": "markdown",
   "metadata": {},
   "source": [
    "#### 5.3 - MAE - Mean Absoulte Error - Średni błąd bezwzględny\n",
    "\n",
    "Suma rezyduł w module podzielona przez ich ilość. </br>\n",
    "\n",
    "Średnia odległość od prostej.\n",
    "</br>\n",
    "*[~Pan Prezes](https://pl.linkedin.com/in/jakwisn?trk=people-guest_people_search-card)*\n",
    "\n",
    "</br>\n",
    "\n",
    "$MAE$ = $\\displaystyle \\frac{1} {n}$ $\\sum_{i=1}^{n} |x_i - f(x_i)|$"
   ]
  },
  {
   "cell_type": "code",
   "execution_count": 6,
   "metadata": {},
   "outputs": [
    {
     "name": "stdout",
     "output_type": "stream",
     "text": [
      "MAE = 8.285714285714286\n"
     ]
    }
   ],
   "source": [
    "mae = 0\n",
    "for index in range(len(y_range)):\n",
    "    y = y_range[index]\n",
    "    y_pred = float(y_predicted[index])\n",
    "    residual = y - y_pred\n",
    "\n",
    "    mae += abs(residual)\n",
    "\n",
    "mae /= len(y_range)\n",
    "print(\"MAE =\", mae)\n"
   ]
  },
  {
   "cell_type": "markdown",
   "metadata": {},
   "source": [
    "Lecz po co nam MSE, RSME, MAE skoro mamy rezydue?\n",
    "<img src=\"images/sum_of_residuals.png\">"
   ]
  },
  {
   "cell_type": "markdown",
   "metadata": {},
   "source": [
    "#### 5.4 - Współczynnik determinacji (współczynnik R<sup>2</sup>)\n",
    "\n",
    "\n",
    "**Współczynnik R-kwadrat** - miara jakości dopasowania modelu. Mówi on o tym, jaki procent jednej zmiennej wyjaśnia zmienność drugiej zmiennej. Przyjmuje on wartości od 0 do 1.\n",
    "</br>\n",
    "*~[Pogotowie Statystyczne](https://pogotowiestatystyczne.pl/slowniki/wspolczynnik-r-kwadrat/)*\n",
    "\n",
    "</br>\n",
    "\n",
    "**R-kwadrat**  mówi o tym, jak model regresji dopasowuje się do danych.\n",
    "</br>\n",
    "*[~Pan Prezes](https://pl.linkedin.com/in/jakwisn?trk=people-guest_people_search-card)*"
   ]
  },
  {
   "cell_type": "markdown",
   "metadata": {},
   "source": [
    "$R^2$ = $\\displaystyle \\frac{ \\frac{\\sum_{}^{n} (\\hat{y} - \\overline{y})^2}{n} }{ \\frac{\\sum_{}^{} (y - \\overline{y})^2}{n}}$ = $\\displaystyle \\frac{ \\sum_{}^{} (\\hat{y} - \\overline{y})^2 }{\\sum_{}^{} (y - \\overline{y})^2}$\n",
    "\n",
    "</br>\n",
    "\n",
    "$\\hat{y}$ - wartość wyznaczona przez model </br>\n",
    "$\\overline{y}$ - wartość średnia </br>\n",
    "y - prawdziwa wartość"
   ]
  },
  {
   "cell_type": "markdown",
   "metadata": {},
   "source": [
    "Gdy model idealny ⇒ y przewidywany to y ⇒ dzielimy to samo przez to samo ⇒ 1 </br>\n",
    "Gdy model tragiczny ⇒ zero przez liczbę ⇒ 0</br>"
   ]
  },
  {
   "cell_type": "markdown",
   "metadata": {},
   "source": [
    "Lecz czy ten parametr jest dobry? Tak. </br>\n",
    "Czy można go używać samego? Nie: </br>\n",
    "\n",
    "<img src=\"images/r_squared.png\" width=\"537\" height=\"400\"> </br>\n",
    "[[Wikipedia](https://pl.wikipedia.org/wiki/Wsp%C3%B3%C5%82czynnik_determinacji)] </br>\n",
    "\n",
    "Dla tych czterech różnych sytuacji R<sup>2</sup> jest takie samo. </br>\n",
    "Jest współczynnikiem korelacji między y prawdziwy a y przewidywanym przez model."
   ]
  },
  {
   "cell_type": "markdown",
   "metadata": {},
   "source": [
    "#### 5.4 - Współczynnik determinacji (współczynnik R<sup>2</sup>) dla zaawansowanych"
   ]
  },
  {
   "cell_type": "markdown",
   "metadata": {},
   "source": [
    "SSR - to co model wyjaśnił </br>\n",
    "SSE - to co model NIE wyjaśnił </br>\n",
    "SST = SSR + SSE - zmienność danych\n",
    "\n",
    "</br>\n",
    "\n",
    "$SSR$ = $\\displaystyle \\sum_{}^{} (\\overline{y} - y)^2$ </br>\n",
    "$SSE$ = $\\displaystyle \\sum_{}^{} (\\hat{y} - y)^2$ </br>\n",
    "$SST$ = $SSR + SSE$ </br> </br> </br>\n",
    "\n",
    "$R^2$ = $\\displaystyle \\frac{ SSR }{SST}$ = $\\displaystyle \\frac{ SST - SSE }{SST}$ = $\\displaystyle 1 - \\frac{ SSE }{SST}$\n",
    "\n",
    "</br>\n",
    "\n",
    "$\\hat{y}$ - wartość wyznaczona przez model </br>\n",
    "$\\overline{y}$ - wartość średnia </br>\n",
    "y - prawdziwa wartość"
   ]
  },
  {
   "cell_type": "markdown",
   "metadata": {},
   "source": [
    "<img src=\"images/SST.png\"> </br>\n",
    "[[medium](https://sspaulc.medium.com/how-to-check-for-a-good-regression-model-by-r-squared-7878dc3ff3c5)] </br>"
   ]
  },
  {
   "cell_type": "markdown",
   "metadata": {},
   "source": [
    "### 6. bias-variance tradeoff - Kompromis między obciążeniem a wariancją"
   ]
  },
  {
   "cell_type": "markdown",
   "metadata": {},
   "source": [
    "Skąd wiedzieć, że model jest przeuczony - trzeba przestać uczyć?"
   ]
  },
  {
   "cell_type": "markdown",
   "metadata": {},
   "source": [
    "1: </br>\n",
    "Błąd spada na zbiorze **treningowym** -> dopasowuje się coraz lepiej do zbioru **treningowego** </br>\n",
    "Błąd spada na zbiorze **testowym** -> dopasowuje się coraz lepiej do zbioru **testowego** </br>\n",
    "2: </br>\n",
    "Błąd spada na zbiorze **treningowym** -> dopasowuje się coraz lepiej do zbioru **treningowego** </br>\n",
    "Błąd **rośnie** na zbiorze **testowym** -> dopasowuje się za bardzo do zbioru **treningowego** </br>"
   ]
  },
  {
   "cell_type": "markdown",
   "metadata": {},
   "source": [
    "<img src=\"images/tradeoff_1.png\"  width=\"537\" height=\"400\">\n",
    "\n",
    "[Wikipedia](https://en.wikipedia.org/wiki/Bias%E2%80%93variance_tradeoff)"
   ]
  },
  {
   "cell_type": "markdown",
   "metadata": {},
   "source": [
    "<img src=\"images/tradeoff_3.png\" width=\"537\" height=\"400\">\n",
    "\n",
    "[Wikipedia](https://pl.wikipedia.org/wiki/Kompromis_mi%C4%99dzy_obci%C4%85%C5%BCeniem_a_wariancj%C4%85)"
   ]
  },
  {
   "cell_type": "markdown",
   "metadata": {},
   "source": [
    "<img src=\"images/tradeoff_2.png\">\n",
    "\n",
    "[Wikipedia](https://en.wikipedia.org/wiki/Bias%E2%80%93variance_tradeoff)"
   ]
  },
  {
   "cell_type": "markdown",
   "metadata": {},
   "source": [
    "<img src=\"images/overfitting.png\">"
   ]
  }
 ],
 "metadata": {
  "interpreter": {
   "hash": "ac59ebe37160ed0dfa835113d9b8498d9f09ceb179beaac4002f036b9467c963"
  },
  "kernelspec": {
   "display_name": "Python 3.9.9 64-bit",
   "language": "python",
   "name": "python3"
  },
  "language_info": {
   "codemirror_mode": {
    "name": "ipython",
    "version": 3
   },
   "file_extension": ".py",
   "mimetype": "text/x-python",
   "name": "python",
   "nbconvert_exporter": "python",
   "pygments_lexer": "ipython3",
   "version": "3.9.9"
  },
  "orig_nbformat": 4
 },
 "nbformat": 4,
 "nbformat_minor": 2
}
